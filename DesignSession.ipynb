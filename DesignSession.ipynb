{
 "cells": [
  {
   "cell_type": "markdown",
   "id": "ec21b82e-1bf4-495f-a947-2df80bed5e1f",
   "metadata": {},
   "source": [
    "## Know your audience\n",
    "\n",
    "A 2nd-year course in discrete mathematics with 10-20 students.  Students range from 2nd-year to 4th-year.  Students will mostly be math and computer science majors.  No programming knowledge is assumed.\n",
    "\n",
    "I'd like to get the students writing Sage code along with me in Syzygy."
   ]
  },
  {
   "cell_type": "markdown",
   "id": "29a5662a-a611-47b1-9136-1281732db523",
   "metadata": {},
   "source": [
    "## Big ideas\n",
    "\n",
    "To show students that Sage is a useful tool for graph theory.  "
   ]
  },
  {
   "cell_type": "markdown",
   "id": "fcd08f1f-67e6-4cee-834c-287dd08bd879",
   "metadata": {},
   "source": [
    "## Learning Goals\n",
    "\n",
    "Students should see some useful built-in functions and also see implementations of some algorithms studied in class (minimum weight spanning tree, shortest path, max-flow min-cut).\n",
    "\n",
    "At the end of the course, students should reach for Sage without being prompted!"
   ]
  },
  {
   "cell_type": "markdown",
   "id": "d5d7ca58-77a8-4cd0-be29-45170f54b957",
   "metadata": {},
   "source": [
    "## Contacts\n",
    "\n",
    "- Jamie Mulholland (SFU) expressed interest in the project.\n",
    "- Ian Allison (PIMS) set up sage.syzygy.ca and may be able to facilitate TRU student access to Sage in Syzygy."
   ]
  },
  {
   "cell_type": "markdown",
   "id": "db3df6c7-0b41-4bb1-a35b-6d07db10fd3b",
   "metadata": {},
   "source": [
    "## Other Ideas\n",
    "\n",
    "- Discrete-time Markov chains.\n",
    "- Solving for probability functions in continuous-time Markov chains."
   ]
  },
  {
   "cell_type": "code",
   "execution_count": null,
   "id": "b1dbef62-a19e-40d2-866f-6ac26fbba67a",
   "metadata": {},
   "outputs": [],
   "source": []
  }
 ],
 "metadata": {
  "kernelspec": {
   "display_name": "Python 3 (ipykernel)",
   "language": "python",
   "name": "python3"
  },
  "language_info": {
   "codemirror_mode": {
    "name": "ipython",
    "version": 3
   },
   "file_extension": ".py",
   "mimetype": "text/x-python",
   "name": "python",
   "nbconvert_exporter": "python",
   "pygments_lexer": "ipython3",
   "version": "3.10.17"
  }
 },
 "nbformat": 4,
 "nbformat_minor": 5
}
